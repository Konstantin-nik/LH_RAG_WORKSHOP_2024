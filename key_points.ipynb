{
 "cells": [
  {
   "cell_type": "markdown",
   "metadata": {},
   "source": [
    "#### !!! Start with empty DB"
   ]
  },
  {
   "cell_type": "markdown",
   "metadata": {},
   "source": [
    "#### Simple RAG that save and use all messages"
   ]
  },
  {
   "cell_type": "code",
   "execution_count": null,
   "metadata": {},
   "outputs": [],
   "source": [
    "[\n",
    "    \"Hi! My name is Peter and I really like choko\",\n",
    "    \"Can you describe a beautiful view on London?\",\n",
    "    \"Hi!!!! Today I want you to give me some ideas how to make a lot of money!\",\n",
    "    \"My pet name is CoCo it's a parrot\",\n",
    "    \"\"\n",
    "]"
   ]
  },
  {
   "cell_type": "code",
   "execution_count": null,
   "metadata": {},
   "outputs": [],
   "source": [
    "[\n",
    "    \"Do you remember my name?\",\n",
    "    \"Do you know about my pets?\",\n",
    "    \"Can you tell me something about atoms?\",\n",
    "    \"Do you know my name?\",\n",
    "    \"What is my name?\",\n",
    "    \"My name is what?\"\n",
    "]"
   ]
  },
  {
   "cell_type": "markdown",
   "metadata": {},
   "source": [
    "#### Key Words RAG"
   ]
  },
  {
   "cell_type": "code",
   "execution_count": null,
   "metadata": {},
   "outputs": [],
   "source": [
    "[\n",
    "    \"Remember that my name is Kostya and my dog's name is Pet\",\n",
    "    \"I really like reading books, please remember this\",\n",
    "    \"Cool! Remember please that I'm really passionate about atoms\",\n",
    "    \"\",\n",
    "]"
   ]
  },
  {
   "cell_type": "code",
   "execution_count": null,
   "metadata": {},
   "outputs": [],
   "source": [
    "[\n",
    "    \"Do you know my name?\",\n",
    "    \"Do you know something about my interests or maybe hobbies?\",\n",
    "    \"Do I have any pets?\",\n",
    "    \"Tell me abou minecraft\"\n",
    "]"
   ]
  },
  {
   "cell_type": "markdown",
   "metadata": {},
   "source": []
  },
  {
   "cell_type": "code",
   "execution_count": null,
   "metadata": {},
   "outputs": [],
   "source": [
    "[\n",
    "    \"Hi!\",\n",
    "    \"Can you tell me something about atoms?\",\n",
    "    \"Do you know my pet?\",\n",
    "]"
   ]
  },
  {
   "cell_type": "markdown",
   "metadata": {},
   "source": [
    "#### User data extractor"
   ]
  },
  {
   "cell_type": "code",
   "execution_count": null,
   "metadata": {},
   "outputs": [],
   "source": [
    "[\n",
    "    \"Hi!\",\n",
    "    \"Tomorow I'll go to dog's exebition with my dog!\",\n",
    "    \"And a week after that I'll visit scientific conference! Can you guess what it will be about?\",\n",
    "    \"And a week after that I'll visit scientific conference! Can you guess what it will be about? (hint: it's connected to one of my interests)\",\n",
    "]"
   ]
  }
 ],
 "metadata": {
  "language_info": {
   "name": "python"
  }
 },
 "nbformat": 4,
 "nbformat_minor": 2
}
