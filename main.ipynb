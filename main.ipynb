{
 "cells": [
  {
   "cell_type": "code",
   "execution_count": 26,
   "metadata": {},
   "outputs": [],
   "source": [
    "import os\n",
    "import json\n",
    "import sqlite3\n",
    "import anthropic\n",
    "\n",
    "import numpy as np\n",
    "import pandas as pd\n",
    "\n",
    "from dotenv import load_dotenv\n",
    "from sklearn.metrics.pairwise import cosine_similarity"
   ]
  },
  {
   "cell_type": "code",
   "execution_count": 13,
   "metadata": {},
   "outputs": [],
   "source": [
    "load_dotenv()\n",
    "ANTHROPIC_API_KEY = os.getenv(\"ANTHROPIC_API_KEY\")\n"
   ]
  },
  {
   "cell_type": "code",
   "execution_count": 20,
   "metadata": {},
   "outputs": [],
   "source": [
    "class AnthropicCalls:\n",
    "    def __init__(\n",
    "            self,\n",
    "            name=\"Anthropic Chat\",\n",
    "            api_key=\"\",\n",
    "            model=\"claude-3-5-sonnet-20240620\",\n",
    "            max_tokens=1024,\n",
    "            temperature=0.7,\n",
    "            system_prompt=\"\",\n",
    "            stream=False,\n",
    "    ):\n",
    "        self.name = name\n",
    "        self.api_key = api_key\n",
    "        self.model = model\n",
    "        self.max_tokens = max_tokens\n",
    "        self.temperature = temperature\n",
    "        self.system_prompt = system_prompt\n",
    "        self.stream = stream\n",
    "        self.history = []\n",
    "\n",
    "        self.client = anthropic.Anthropic(\n",
    "            api_key=self.api_key,\n",
    "        )\n",
    "\n",
    "    def add_message(self, role, content):\n",
    "        self.history.append(\n",
    "            {\n",
    "                \"role\": role, \n",
    "                \"content\": content\n",
    "            }\n",
    "        )\n",
    "    \n",
    "    def clear_history(self):\n",
    "        self.history.clear()\n",
    "\n",
    "    def chat(self, message, **kwargs):\n",
    "        self.add_message(\"user\", message)\n",
    "        return self.get_response(**kwargs)\n",
    "        \n",
    "    def get_response(self, should_print=True, **kwargs):\n",
    "        params = {\n",
    "            \"model\": self.model,\n",
    "            \"max_tokens\": self.max_tokens,\n",
    "            \"temperature\": self.temperature,\n",
    "            \"messages\": self.history,\n",
    "            \"system\": self.system_prompt,\n",
    "            **kwargs\n",
    "        }\n",
    "\n",
    "        if self.stream:\n",
    "            assistant_response = \"\"\n",
    "            with self.client.messages.stream(\n",
    "                **params\n",
    "            ) as stream:\n",
    "                for text_chunk in stream.text_stream:\n",
    "                    assistant_response += str(text_chunk)\n",
    "                    if should_print:\n",
    "                        print(text_chunk, end=\"\", flush=True)\n",
    "        else:\n",
    "            response = self.client.messages.create(\n",
    "                **params\n",
    "            )\n",
    "            assistant_response = str(response.content[0].text)\n",
    "            if should_print:\n",
    "                print(assistant_response, end=\"\")\n",
    "\n",
    "        if should_print:\n",
    "            print()\n",
    "\n",
    "        self.add_message(\"assistant\", assistant_response)\n",
    "        return assistant_response\n",
    "\n"
   ]
  },
  {
   "cell_type": "code",
   "execution_count": null,
   "metadata": {},
   "outputs": [],
   "source": [
    "calls = AnthropicCalls(api_key=ANTHROPIC_API_KEY)\n",
    "\n",
    "calls.chat(\n",
    "    message=\"Hi!\",\n",
    ")\n"
   ]
  },
  {
   "cell_type": "code",
   "execution_count": 18,
   "metadata": {},
   "outputs": [
    {
     "name": "stdout",
     "output_type": "stream",
     "text": [
      "Here's a long abstract for a hypothetical research paper:\n",
      "\n",
      "Title: \"The Impact of Social Media Usage on Adolescent Mental Health: A Longitudinal Study\"\n",
      "\n",
      "Abstract:\n",
      "\n",
      "In recent years, the pervasive use of social media platforms among adolescents has raised concerns about its potential effects on mental health and well-being. This longitudinal study aimed to investigate the relationship between social media usage patterns and various mental health indicators among adolescents aged 13-18 over a three-year period. The research addressed several key questions: (1) How does the frequency and duration of social media use correlate with symptoms of anxiety, depression, and low self-esteem? (2) Are there differences in mental health outcomes based on the types of social media platforms used? (3) What role do factors such as age, gender, and socioeconomic status play in moderating the relationship between social media use and mental health?\n",
      "\n",
      "The study employed a mixed-methods approach, combining quantitative surveys with qualitative interviews. A diverse sample of 2,500 adolescents from urban, suburban, and rural areas across the United States participated in the study. Participants completed online surveys every six months, which included standardized measures of anxiety (GAD-7), depression (PHQ-9), and self-esteem (Rosenberg Self-Esteem Scale), as well as detailed questions about their social media usage patterns. Additionally, a subset of 100 participants engaged in semi-structured interviews at the beginning and end of the study period to provide deeper insights into their experiences with social media and its perceived impact on their mental health.\n",
      "\n",
      "Results revealed a complex relationship between social media use and adolescent mental health. Overall, higher frequency and duration of social media use were associated with increased symptoms of anxiety and depression, and lower self-esteem scores. However, these associations were moderated by several factors. Age played a significant role, with younger adolescents (13-15) showing greater vulnerability to negative mental health outcomes associated with heavy social media use compared to older adolescents (16-18). Gender differences were also observed, with girls reporting higher levels of anxiety and lower self-esteem related to social media use than boys. Interestingly, the type of social media platform used emerged as an important factor, with image-focused platforms (e.g., Instagram, TikTok) showing stronger associations with negative mental health outcomes compared to text-based platforms (e.g., Twitter).\n",
      "\n",
      "Qualitative data from interviews provided valuable context to these findings, revealing themes such as social comparison, fear of missing out (FOMO), online harassment, and sleep disruption as key mechanisms through which social media use may impact mental health. Notably, some participants reported positive aspects of social media use, including increased social connection and access to support networks, highlighting the nuanced nature of social media's impact.\n",
      "\n",
      "This study contributes to the growing body of literature on digital media and adolescent well-being by providing longitudinal evidence of the complex relationships between social media use and mental health outcomes. The findings suggest that while excessive social media use may pose risks to adolescent mental health, these risks are not uniform across all users or platforms. The study underscores the need for targeted interventions and education programs that consider age, gender, and platform-specific factors in addressing the potential negative impacts of social media on adolescent mental health.\n",
      "\n",
      "Future research directions include exploring protective factors that may buffer against negative effects of social media use, investigating the long-term implications of adolescent social media use on mental health into adulthood, and developing and evaluating interventions to promote healthy social media habits among young people."
     ]
    },
    {
     "data": {
      "text/plain": [
       "'Here\\'s a long abstract for a hypothetical research paper:\\n\\nTitle: \"The Impact of Social Media Usage on Adolescent Mental Health: A Longitudinal Study\"\\n\\nAbstract:\\n\\nIn recent years, the pervasive use of social media platforms among adolescents has raised concerns about its potential effects on mental health and well-being. This longitudinal study aimed to investigate the relationship between social media usage patterns and various mental health indicators among adolescents aged 13-18 over a three-year period. The research addressed several key questions: (1) How does the frequency and duration of social media use correlate with symptoms of anxiety, depression, and low self-esteem? (2) Are there differences in mental health outcomes based on the types of social media platforms used? (3) What role do factors such as age, gender, and socioeconomic status play in moderating the relationship between social media use and mental health?\\n\\nThe study employed a mixed-methods approach, combining quantitative surveys with qualitative interviews. A diverse sample of 2,500 adolescents from urban, suburban, and rural areas across the United States participated in the study. Participants completed online surveys every six months, which included standardized measures of anxiety (GAD-7), depression (PHQ-9), and self-esteem (Rosenberg Self-Esteem Scale), as well as detailed questions about their social media usage patterns. Additionally, a subset of 100 participants engaged in semi-structured interviews at the beginning and end of the study period to provide deeper insights into their experiences with social media and its perceived impact on their mental health.\\n\\nResults revealed a complex relationship between social media use and adolescent mental health. Overall, higher frequency and duration of social media use were associated with increased symptoms of anxiety and depression, and lower self-esteem scores. However, these associations were moderated by several factors. Age played a significant role, with younger adolescents (13-15) showing greater vulnerability to negative mental health outcomes associated with heavy social media use compared to older adolescents (16-18). Gender differences were also observed, with girls reporting higher levels of anxiety and lower self-esteem related to social media use than boys. Interestingly, the type of social media platform used emerged as an important factor, with image-focused platforms (e.g., Instagram, TikTok) showing stronger associations with negative mental health outcomes compared to text-based platforms (e.g., Twitter).\\n\\nQualitative data from interviews provided valuable context to these findings, revealing themes such as social comparison, fear of missing out (FOMO), online harassment, and sleep disruption as key mechanisms through which social media use may impact mental health. Notably, some participants reported positive aspects of social media use, including increased social connection and access to support networks, highlighting the nuanced nature of social media\\'s impact.\\n\\nThis study contributes to the growing body of literature on digital media and adolescent well-being by providing longitudinal evidence of the complex relationships between social media use and mental health outcomes. The findings suggest that while excessive social media use may pose risks to adolescent mental health, these risks are not uniform across all users or platforms. The study underscores the need for targeted interventions and education programs that consider age, gender, and platform-specific factors in addressing the potential negative impacts of social media on adolescent mental health.\\n\\nFuture research directions include exploring protective factors that may buffer against negative effects of social media use, investigating the long-term implications of adolescent social media use on mental health into adulthood, and developing and evaluating interventions to promote healthy social media habits among young people.'"
      ]
     },
     "execution_count": 18,
     "metadata": {},
     "output_type": "execute_result"
    }
   ],
   "source": [
    "calls = AnthropicCalls(api_key=ANTHROPIC_API_KEY, stream=True)\n",
    "\n",
    "calls.chat(\n",
    "    message=\"Write a Long abstract\",\n",
    ")\n"
   ]
  },
  {
   "cell_type": "code",
   "execution_count": 21,
   "metadata": {},
   "outputs": [
    {
     "name": "stdout",
     "output_type": "stream",
     "text": [
      "Hello! How can I assist you today? Feel free to ask me any questions or let me know if you need help with anything.\n",
      "As an AI language model, I don't have feelings or personal experiences, but I'm functioning well and ready to assist you with any questions or tasks you might have. How can I help you today?\n",
      "Certainly! Photons are fascinating particles that play a crucial role in our understanding of light and electromagnetic radiation. Here are some key ideas and facts about photons:\n",
      "\n",
      "1. Definition: Photons are elementary particles that represent the quantum of light and all other forms of electromagnetic radiation.\n",
      "\n",
      "2. Wave-particle duality: Photons exhibit both wave-like and particle-like properties, demonstrating the concept of wave-particle duality in quantum mechanics.\n",
      "\n",
      "3. Mass and charge: Photons have no mass and no electric charge.\n",
      "\n",
      "4. Speed: In a vacuum, photons always travel at the speed of light (approximately 299,792,458 meters per second).\n",
      "\n",
      "5. Energy: The energy of a photon is directly proportional to its frequency, as described by the equation E = hf, where h is Planck's constant and f is the frequency.\n",
      "\n",
      "6. Quantum nature: Photons are emitted and absorbed in discrete energy packets, which explains phenomena like the photoelectric effect.\n",
      "\n",
      "7. Spin: Photons have a spin of 1, classifying them as bosons.\n",
      "\n",
      "8. Polarization: Photons can be polarized, meaning their electric field oscillates in a specific direction.\n",
      "\n",
      "9. Interactions: Photons interact with matter through processes like absorption, emission, and scattering.\n",
      "\n",
      "10. Applications: Understanding photons is crucial for various technologies, including lasers, fiber optics, and solar cells.\n",
      "\n",
      "These are just a few ideas about photons. Is there any specific aspect of photons you'd like to explore further?\n",
      "Thank you for the conversation! If you have any more questions in the future or need assistance with anything else, please don't hesitate to ask. Have a great day!\n"
     ]
    }
   ],
   "source": [
    "calls = AnthropicCalls(api_key=ANTHROPIC_API_KEY, stream=True)\n",
    "\n",
    "message = \"\"\n",
    "while message != \"END\": \n",
    "    message = input(\"User:\")\n",
    "    calls.chat(message=message)\n"
   ]
  },
  {
   "cell_type": "code",
   "execution_count": 27,
   "metadata": {},
   "outputs": [],
   "source": [
    "class SQLiteCalls:\n",
    "    def __init__(\n",
    "            self,\n",
    "            db_path=\"sqlite.db\"\n",
    "    ):\n",
    "        self.db_path = db_path\n",
    "\n",
    "    def setup_database(self):\n",
    "        conn = sqlite3.connect(self.db_path)\n",
    "\n",
    "        # cursor = conn.cursor()\n",
    "        # cursor.execute('DROP TABLE IF EXISTS chat_history')\n",
    "        \n",
    "        conn.execute(\"\"\"\n",
    "            CREATE TABLE IF NOT EXISTS chat_history (\n",
    "                id INTEGER PRIMARY KEY AUTOINCREMENT,\n",
    "                role TEXT,\n",
    "                message TEXT,\n",
    "                embeddings TEXT,\n",
    "                date TEXT DEFAULT CURRENT_TIMESTAMP,\n",
    "            );\n",
    "        \"\"\")\n",
    "        conn.commit()\n",
    "        conn.close()\n",
    "\n",
    "    def save_message(self, message: dict, embeddings):\n",
    "        conn = sqlite3.connect(self.db_path, timeout=5)\n",
    "        try:\n",
    "            cursor = conn.cursor()\n",
    "            role = message[\"role\"]\n",
    "            message_str = json.dumps(message)\n",
    "            embeddings_str = json.dumps(embeddings) if not isinstance(embeddings, str) else embeddings\n",
    "\n",
    "            cursor.execute(\"\"\"\n",
    "                INSERT INTO chat_history (role, message, embeddings)\n",
    "                VALUES (?, ?, ?)\n",
    "            \"\"\", (role, message_str, embeddings_str))\n",
    "\n",
    "            conn.commit()\n",
    "        finally:\n",
    "            conn.close()\n",
    "\n",
    "    def load_chat_to_dataframe(self):\n",
    "        conn = sqlite3.connect(self.db_path, timeout=5)\n",
    "        df = pd.read_sql_query('''\n",
    "            SELECT * FROM chat_history\n",
    "            ORDER BY date ASC                \n",
    "        ''', conn)\n",
    "        \n",
    "        conn.close()\n",
    "        return df\n"
   ]
  }
 ],
 "metadata": {
  "kernelspec": {
   "display_name": ".venv",
   "language": "python",
   "name": "python3"
  },
  "language_info": {
   "codemirror_mode": {
    "name": "ipython",
    "version": 3
   },
   "file_extension": ".py",
   "mimetype": "text/x-python",
   "name": "python",
   "nbconvert_exporter": "python",
   "pygments_lexer": "ipython3",
   "version": "3.11.9"
  }
 },
 "nbformat": 4,
 "nbformat_minor": 2
}
